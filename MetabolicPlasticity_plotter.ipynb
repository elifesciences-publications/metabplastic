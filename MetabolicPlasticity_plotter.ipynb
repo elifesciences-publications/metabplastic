{
 "cells": [
  {
   "cell_type": "markdown",
   "metadata": {},
   "source": [
    "## Preamble with imports"
   ]
  },
  {
   "cell_type": "code",
   "execution_count": null,
   "metadata": {
    "collapsed": true
   },
   "outputs": [],
   "source": [
    "%matplotlib inline\n",
    "from __future__ import print_function\n",
    "import numpy as np\n",
    "import sys \n",
    "import matplotlib\n",
    "import matplotlib.pyplot as plt \n",
    "from matplotlib import colors\n",
    "import matplotlib.animation as animation\n",
    "matplotlib.rcParams['figure.figsize'] = [12, 12]\n",
    "from IPython.display import HTML\n",
    "\n",
    "\n",
    "font = {'family' : 'sans',\n",
    "        'weight' : 'regular',\n",
    "        'size'   : 28}\n",
    "\n",
    "matplotlib.rc('font', **font)\n",
    "yeast_cmap=colors.ListedColormap(['white',\"#aaaaaa\", \"#000000\", \"#b35900\"])"
   ]
  },
  {
   "cell_type": "code",
   "execution_count": null,
   "metadata": {
    "collapsed": true
   },
   "outputs": [],
   "source": [
    "filename = 'Colony_default.npy' #saved data structure with different time-steps of the colony\n",
    "ColonyTime = np.load(filename)"
   ]
  },
  {
   "cell_type": "code",
   "execution_count": null,
   "metadata": {
    "scrolled": false
   },
   "outputs": [],
   "source": [
    "i=-1\n",
    "\n",
    "# POP = np.where(ColonyTime[-1]>0)\n",
    "# print (len(POP[-1]))\n",
    "\n",
    "plt.figure()\n",
    "plt.imshow(ColonyTime[i].transpose(), origin=\"lower\",cmap=yeast_cmap,interpolation='nearest',vmin=0,vmax=4)\n",
    "plt.axis([40,160,40,160])\n",
    "plt.xlabel('Grid Lengths')\n",
    "plt.ylabel('Grid Lengths')\n",
    "plt.grid(True)\n",
    "figname=\"metabplast\"\n",
    "plt.savefig(figname+\".svg\", ext=\"pdf\",DPI=600)\n",
    "plt.savefig(figname+\".png\", ext=\"png\",DPI=600)\n"
   ]
  },
  {
   "cell_type": "code",
   "execution_count": null,
   "metadata": {
    "scrolled": false
   },
   "outputs": [],
   "source": [
    "fig = plt.figure()\n",
    "ims=[]\n",
    "\n",
    "for i in range(0,len(ColonyTime),5):\n",
    "    im = plt.imshow(ColonyTime[i].transpose(), origin=\"lower\",cmap=yeast_cmap,interpolation='nearest',vmin=0,vmax=4, animated=True)\n",
    "    ims.append([im])"
   ]
  },
  {
   "cell_type": "code",
   "execution_count": null,
   "metadata": {
    "scrolled": true
   },
   "outputs": [],
   "source": [
    "ani = animation.ArtistAnimation(fig, ims, interval=75, blit=True,repeat_delay=1000)\n",
    "from matplotlib.animation import FFMpegWriter\n",
    "writer = FFMpegWriter(fps=24, metadata=dict(artist='Me'), bitrate=1800)\n",
    "ani.save(figname+\"_colony_movie.htm\")\n",
    "# ani.save(figname+\"_colony_movie.mp4\")"
   ]
  },
  {
   "cell_type": "code",
   "execution_count": null,
   "metadata": {
    "collapsed": true
   },
   "outputs": [],
   "source": [
    "#resource movie\n",
    "filename = 'ResourceGrid.npy'\n",
    "ResourceTime = np.load(filename)\n"
   ]
  },
  {
   "cell_type": "code",
   "execution_count": null,
   "metadata": {},
   "outputs": [],
   "source": [
    "Res=[]\n",
    "for i in ResourceTime:\n",
    "    Res.append(np.sum(i))\n",
    "plt.figure()\n",
    "plt.plot(Res)\n",
    "plt.grid(True)\n",
    "plt.xlabel('Time steps')\n",
    "plt.ylabel('Total trehalose on the grid')\n",
    "figname2=figname+\"_resource_timeseries\"\n",
    "plt.savefig(figname2+\".svg\", ext=\"pdf\",DPI=600)\n",
    "plt.savefig(figname2+\".png\", ext=\"png\",DPI=600)"
   ]
  },
  {
   "cell_type": "code",
   "execution_count": null,
   "metadata": {},
   "outputs": [],
   "source": [
    "i=-1\n",
    "\n",
    "plt.figure()\n",
    "plt.imshow(ResourceTime[i].transpose(), origin=\"lower\")#,cmap=yeast_cmap,interpolation='nearest',vmin=0,vmax=4)\n",
    "plt.axis([40,160,40,160])\n",
    "plt.xlabel('Grid Lengths')\n",
    "plt.ylabel('Grid Lengths')\n",
    "plt.grid(True)\n",
    "figname3=figname+\"_resource_grid\"\n",
    "plt.savefig(figname3+\".svg\", ext=\"pdf\",DPI=600)\n",
    "plt.savefig(figname3+\".png\", ext=\"png\",DPI=600)"
   ]
  },
  {
   "cell_type": "code",
   "execution_count": null,
   "metadata": {},
   "outputs": [],
   "source": [
    "fig = plt.figure()\n",
    "ims=[]\n",
    "\n",
    "for i in range(0,len(ResourceTime),5):\n",
    "    im = plt.imshow(ResourceTime[i].transpose(), origin=\"lower\")#,cmap=yeast_cmap,interpolation='nearest',vmin=0,vmax=4, animated=True)\n",
    "    ims.append([im])\n",
    "\n",
    "ani = animation.ArtistAnimation(fig, ims, interval=75, blit=True,repeat_delay=1000)\n",
    "from matplotlib.animation import FFMpegWriter\n",
    "writer = FFMpegWriter(fps=24, metadata=dict(artist='Me'), bitrate=1800)\n",
    "ani.save(figname+\"_resource_movie.htm\")\n",
    "# ani.save(figname+\"_resource_movie.mp4\")"
   ]
  }
 ],
 "metadata": {
  "kernelspec": {
   "display_name": "Python 3",
   "language": "python",
   "name": "python3"
  },
  "language_info": {
   "codemirror_mode": {
    "name": "ipython",
    "version": 3
   },
   "file_extension": ".py",
   "mimetype": "text/x-python",
   "name": "python",
   "nbconvert_exporter": "python",
   "pygments_lexer": "ipython3",
   "version": "3.6.3"
  }
 },
 "nbformat": 4,
 "nbformat_minor": 2
}
