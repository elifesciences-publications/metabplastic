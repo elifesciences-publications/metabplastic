{
 "cells": [
  {
   "cell_type": "markdown",
   "metadata": {},
   "source": [
    "## Preamble with imports"
   ]
  },
  {
   "cell_type": "code",
   "execution_count": null,
   "metadata": {
    "scrolled": false
   },
   "outputs": [],
   "source": [
    "from scipy import signal\n",
    "from __future__ import print_function\n",
    "import numpy as np\n",
    "import sys \n",
    "import random\n",
    "import time\n",
    "from random import shuffle\n",
    "import matplotlib\n",
    "import matplotlib.pyplot as plt \n",
    "from matplotlib import colors\n",
    "matplotlib.rcParams['figure.figsize'] = [12, 9]\n",
    "%matplotlib inline\n",
    "\n",
    "font = {'family' : 'sans',\n",
    "        'weight' : 'regular',\n",
    "        'size'   : 11}\n",
    "\n",
    "matplotlib.rc('font', **font)\n"
   ]
  },
  {
   "cell_type": "markdown",
   "metadata": {},
   "source": [
    "## Yeast Cell class"
   ]
  },
  {
   "cell_type": "code",
   "execution_count": null,
   "metadata": {
    "collapsed": true
   },
   "outputs": [],
   "source": [
    "#Yeast Cell Class\n",
    "\n",
    "class yeast_cell:\n",
    "    def __init__(self, live=1, gen=0, leaf=0,location=(0,0), gluconD=0,plate=1,id=1):\n",
    "        self.location=location #coordinates, as tuples\n",
    "        self.gluconD=gluconD #cells are glycolytic by default. Turning this on allows them to produce trehalose and diffuse it around\n",
    "        self.C=0.5 #amount of C inside\n",
    "        self.N=0.5 #amount of N inside\n",
    "        self.id=1\n",
    "        self.clock = 0 #keeps track of division time. \n"
   ]
  },
  {
   "cell_type": "markdown",
   "metadata": {},
   "source": [
    "## Diffusion Array"
   ]
  },
  {
   "cell_type": "code",
   "execution_count": null,
   "metadata": {
    "collapsed": true
   },
   "outputs": [],
   "source": [
    "DiffMat = np.array([[0,0.24,0],\n",
    "                  [0.24,0.04,0.24],\n",
    "                  [0,0.24,0]])"
   ]
  },
  {
   "cell_type": "code",
   "execution_count": null,
   "metadata": {
    "collapsed": true
   },
   "outputs": [],
   "source": [
    "def FillProb(locn):\n",
    "    count=0\n",
    "    cx=locn[0]\n",
    "    cy=locn[1]\n",
    "    cell_neigh = [(max(0,cx-1),cy),(cx,min(cy+1,gridleny-1)),(min(cx+1,gridlenx-1),cy),(cx,max(0,cy-1))]\n",
    "    shuffle(cell_neigh)\n",
    "    for locn in cell_neigh:\n",
    "        if locn in LOC_STATE.keys():\n",
    "            count+=1\n",
    "    return count"
   ]
  },
  {
   "cell_type": "code",
   "execution_count": null,
   "metadata": {
    "collapsed": true
   },
   "outputs": [],
   "source": [
    "iter_len=750 #Give the system enough time to switch and grow"
   ]
  },
  {
   "cell_type": "code",
   "execution_count": null,
   "metadata": {},
   "outputs": [],
   "source": [
    "'''\n",
    "Default set of parameters (do not edit unless you've noted them down somewhere)\n",
    "\n",
    "iter_len = 750 #No. of time steps to run the simulation\n",
    "\n",
    "#MAIN PARAMETER MODELS AND INITIAL CONDITIONS\n",
    "food=1.0 #how many units of food does each cell need to divide via glycolysis\n",
    "GlucInit=0.0 #units of glucose available at each grid location at t=0\n",
    "gridlenx=201 #grid dimension x\n",
    "gridleny=201 #grid dimension y\n",
    "trehalose=GlucInit*np.ones(shape=(gridlenx,gridleny)) #Trehalose plate 1 at t=0\n",
    "aspartate=1e7*np.ones(shape=(gridlenx,gridleny))\n",
    "\n",
    "ThreshLD = 0.0001 #Trehalose levels below which light cells can turn dark \n",
    "ProbLD = 0.0001 #probablity of light cells switching dark once threshold conditions are met\n",
    "\n",
    "ThreshDL = 1.5 #Trehalose levels above which dark cells can turn light \n",
    "ProbDL = 0.5 #probablity of dark cells switching light once threshold conditions are met \n",
    "\n",
    "Cmax = 0.05 #maximum trehalose consumed by light cells per time step\n",
    "AspU=4.0 #aspartate uptake multiplier\n",
    "f=0.125 #fraction of Aspartate influx that contributes to Nitrogen reserves in dark cells\n",
    "Y = 0.31 #A yield coefficient converting Asp to C\n",
    "Pf = 0.049 #Fraction of internal C that is secreted as trehalose\n",
    "MaxProduced = 0.12 #Maximum trehalose produced by dark cells per time step\n",
    "\n",
    "\n",
    "ExN=4.0 #How much extra N do light cells need to meet N requirements for division.\n",
    "Growth = 0.04 #probability of division per cell block per unit time once C and N reserves are met. \n",
    "'''"
   ]
  },
  {
   "cell_type": "code",
   "execution_count": null,
   "metadata": {
    "collapsed": true
   },
   "outputs": [],
   "source": [
    "\n",
    "#MAIN PARAMETER MODELS AND INITIAL CONDITIONS\n",
    "food=1.0 #how many units of food does each cell need to divide via glycolysis\n",
    "GlucInit=0.0 #units of glucose available at each grid location at t=0\n",
    "gridlenx=201 #grid dimension x\n",
    "gridleny=201 #grid dimension y\n",
    "trehalose=GlucInit*np.ones(shape=(gridlenx,gridleny)) #Trehalose plate 1 at t=0\n",
    "aspartate=1e7*np.ones(shape=(gridlenx,gridleny))\n",
    "\n",
    "ThreshLD = 0.0001 #Trehalose levels below which light cells can turn dark \n",
    "ProbLD = 0.0001 #probablity of light cells switching dark once threshold conditions are met\n",
    "\n",
    "ThreshDL = 1.5 #Trehalose levels above which dark cells can turn light \n",
    "ProbDL = 0.5 #probablity of dark cells switching light once threshold conditions are met \n",
    "\n",
    "Cmax = 0.05 #maximum trehalose consumed by light cells per time step\n",
    "AspU=4.0 #aspartate uptake multiplier\n",
    "f=0.125 #fraction of Aspartate influx that contributes to Nitrogen reserves in dark cells\n",
    "Y = 0.31 #A yield coefficient converting Asp to C\n",
    "Pf = 0.049 #Fraction of internal C that is secreted as trehalose\n",
    "MaxProduced = 0.12 #Maximum trehalose produced by dark cells per time step\n",
    "\n",
    "\n",
    "ExN=4.0 #How much extra N do light cells need to meet N requirements for division.\n",
    "Growth = 0.04 #probability of division per cell block per unit time once C and N reserves are met."
   ]
  },
  {
   "cell_type": "code",
   "execution_count": null,
   "metadata": {
    "collapsed": true
   },
   "outputs": [],
   "source": [
    "# Diagnostic variables\n",
    "ActualMax=0\n",
    "ActualSecreted = []\n",
    "SwitchCount = 0 #counts switching\n",
    "Switching = []\n",
    "Switching.append(SwitchCount) #tracks switching\n",
    "SwitchDist = [] #tracks switching events at a certain distance\n",
    "SwitchTime = []\n",
    "GlyDivTime = [] #keeps track of division time for light cells (make a histogram)\n",
    "GluDivTime = [] #keeps track of division time for dark cells (make a histogram)"
   ]
  },
  {
   "cell_type": "code",
   "execution_count": null,
   "metadata": {
    "collapsed": true
   },
   "outputs": [],
   "source": [
    "#Initial Variables the ones which we tend to keep track of\n",
    "GLUCON_FRAC=[]\n",
    "POPU_TOTAL=[] #keeps track of total cell population\n",
    "POPU_NUM=[] #tracks number \n",
    "GLUCON_X=[]\n",
    "GLUCON_Y=[]\n",
    "LOC=[] #all coordinates\n",
    "COLONY_GRID = np.zeros(shape=(gridlenx,gridleny))\n",
    "ColonyTime = np.zeros(shape=(iter_len+1,gridlenx,gridleny)) #store snapshots of the colony grid\n",
    "ResourceTime = np.zeros(shape=(iter_len+1,gridlenx,gridleny)) #store snapshots of the trehalose grid\n",
    "LOC_STATE={}\n"
   ]
  },
  {
   "cell_type": "code",
   "execution_count": null,
   "metadata": {
    "scrolled": true
   },
   "outputs": [],
   "source": [
    "#seed island with cells\n",
    "GLUCON_COUNTER=0 #gluconeogenic cells\n",
    "GStart = 0.999 #starting fraction of gluconeogenic cells\n",
    "GLUCON_FRAC.append(GStart)\n",
    "cx=int((len(trehalose[:-1])-1)/2)\n",
    "cy=cx\n",
    "originx=cx\n",
    "originy=cy\n",
    "cell_id=0\n",
    "island = []\n",
    "radius = 20\n",
    "for x in range(gridlenx):\n",
    "    for y in range(gridlenx):\n",
    "        if (np.sqrt((cx-x)**2+(cy-y)**2))<=radius:\n",
    "            island.append((x,y))\n",
    "\n",
    "for locn in island: #starting island of cells\n",
    "    glucons = random.sample(set(island),int(GStart*len(island))) #set up required number of gluconeogenic cells\n",
    "    yseed=yeast_cell()\n",
    "    yseed.id=cell_id\n",
    "    cell_id+=1\n",
    "    yseed.location=(locn[0],locn[1])\n",
    "    LOC_STATE[locn] = 0 # 0 is glycolytic\n",
    "    ColonyTime[0][locn]=1\n",
    "    POPU_TOTAL.append(yseed)\n",
    "    LOC.append(yseed.location)\n",
    "    \n",
    "    if locn in glucons:\n",
    "        yseed.gluconD=1\n",
    "        LOC_STATE[locn] = 1 # 1 is gluconeogenic\n",
    "        ColonyTime[0][locn]=2\n",
    "        GLUCON_COUNTER += 1\n",
    "\n",
    "POPU_NUM.append(len(POPU_TOTAL))\n",
    "tstart = time.time()\n",
    "\n",
    "for time_iters in range(iter_len+1): #Number of fixed width time steps\n",
    "    ResourceTime[time_iters] = trehalose\n",
    "    trehalose = signal.convolve2d(trehalose,DiffMat,boundary='symm', mode='same') #diffusion step\n",
    "    ColonyTime[time_iters] = ColonyTime[max(0,time_iters-1)]\n",
    "    # initialise new generation cells\n",
    "    nextgen=[]\n",
    "    for a_cell in POPU_TOTAL: #sweep over the whole colony\n",
    "        cx=a_cell.location[0]\n",
    "        cy=a_cell.location[1]\n",
    "        cell_neigh = [(max(0,cx-1),cy),(cx,min(cy+1,gridleny-1)),(min(cx+1,gridlenx-1),cy),(cx,max(0,cy-1))] # '+' shaped neighbourhood\n",
    "\n",
    "        #Gluconeogenic (dark) cell block\n",
    "        if a_cell.gluconD == 1: #check if the cell is Dark\n",
    "            if random.random() <= ProbDL and trehalose[cx,cy] >= ThreshDL:\n",
    "                a_cell.gluconD=0 #Switch to glycolytic (Light)\n",
    "                LOC_STATE[(cx,cy)] = 0 #turn back to glycolytic state\n",
    "                ColonyTime[time_iters][(cx,cy)] = 1\n",
    "                SwitchCount += 1\n",
    "                GLUCON_COUNTER -= 1\n",
    "                SwitchDist.append(np.sqrt((cx-originx)**2+(cy-originy)**2))\n",
    "                SwitchTime.append(time_iters)\n",
    " \n",
    "            else:\n",
    "                a_cell.N += AspU*f*Cmax\n",
    "                a_cell.C += Y*AspU*(1.0-f)*Cmax\n",
    "                a_cell.clock += 1\n",
    "                Produced = min(Pf*a_cell.C,MaxProduced)\n",
    "                if (a_cell.C-Produced) >= 0: \n",
    "                    a_cell.C -= Produced #remove secreted amount from internal C reserves\n",
    "                    trehalose[cx,cy]=trehalose[cx,cy]+Produced #trying to couple the trehalose to the C reserves\n",
    "                    ActualSecreted.append(Produced)\n",
    "                                \n",
    "                if a_cell.N >= food and a_cell.C >= food : #chance of dividing as a gluconeogenic (Dark) cell. \n",
    "                    if random.random()<=Growth:\n",
    "                        empty_spot=[] # find an empty space to divide into\n",
    "                        SpotScore = []\n",
    "                        for locn in cell_neigh:\n",
    "                            if locn not in LOC:\n",
    "                                empty_spot.append(locn)\n",
    "                                SpotScore.append(FillProb(locn))\n",
    "\n",
    "                        if len(empty_spot)>0: #divide into available empty spot\n",
    "                            (newglux,newgluy)=empty_spot[SpotScore.index(max(SpotScore))]\n",
    "                            newcell=yeast_cell()\n",
    "                            newcell.id=cell_id\n",
    "                            newcell.gluconD = 1\n",
    "                            cell_id+=1\n",
    "                            newcell.C = a_cell.C/2.0\n",
    "                            newcell.N = a_cell.N/2.0\n",
    "                            a_cell.C = a_cell.C/2.0 #daughters get half\n",
    "                            a_cell.N = a_cell.N/2.0 #daughters get half\n",
    "                            GluDivTime.append(a_cell.clock)\n",
    "                            a_cell.clock = 0 #reset division time clock\n",
    "                            nextgen.append(newcell)\n",
    "                            newcell.location=(newglux,newgluy)\n",
    "                            LOC.append(newcell.location)\n",
    "                            LOC_STATE[(newglux,newgluy)] = 1\n",
    "                            ColonyTime[time_iters][(newglux,newgluy)] = 2\n",
    "                            GLUCON_COUNTER+=1\n",
    "\n",
    "        #Glycolytic (Light) cell\n",
    "        elif a_cell.gluconD == 0:\n",
    "            if random.random()<=ProbLD and trehalose[cx,cy] < ThreshLD:\n",
    "                a_cell.gluconD=1 #switch to gluconeogenic (Dark)\n",
    "                LOC_STATE[a_cell.location] = 1\n",
    "                ColonyTime[time_iters][(cx,cy)]=2\n",
    "                SwitchCount += 1 #count switching between states\n",
    "                GLUCON_COUNTER+=1\n",
    "                SwitchDist.append(np.sqrt((cx-originx)**2+(cy-originy)**2))\n",
    "                SwitchTime.append(time_iters)\n",
    "     \n",
    "            else:\n",
    "                a_cell.clock += 1\n",
    "                a_cell.N += AspU*Cmax #Take up aspartate\n",
    "                if trehalose[cx,cy] >0: #Take up trehalose\n",
    "                    a_cell.C += min(Cmax,trehalose[cx,cy])\n",
    "                    trehalose[cx,cy]=trehalose[cx,cy]-min(Cmax,trehalose[cx,cy])\n",
    "                           \n",
    "                if a_cell.C >= food and a_cell.N >= ExN*food:\n",
    "                    if random.random() <=Growth:\n",
    "                        empty_spot=[] # find an empty space to divide into\n",
    "                        SpotScore=[]\n",
    "                        for locn in cell_neigh:\n",
    "                            if locn not in LOC:\n",
    "                                empty_spot.append(locn)\n",
    "                                SpotScore.append(FillProb(locn))\n",
    "                        if len(empty_spot)>0:\n",
    "                            (newx,newy)=empty_spot[SpotScore.index(max(SpotScore))]\n",
    "                            newcell=yeast_cell()\n",
    "                            newcell.id=cell_id\n",
    "                            cell_id+=1\n",
    "                            newcell.C = a_cell.C/2.0 #daughters get half\n",
    "                            newcell.N = a_cell.N/2.0 #daughters get half\n",
    "                            a_cell.C = a_cell.C/2.0 #daughters get half\n",
    "                            a_cell.N = a_cell.N/2.0 #daughters get half\n",
    "                            GlyDivTime.append(a_cell.clock)\n",
    "                            a_cell.clock = 0 #reset division time clock\n",
    "                            nextgen.append(newcell)\n",
    "                            newcell.location=(newx,newy)\n",
    "                            LOC_STATE[(newx,newy)] = 0\n",
    "                            ColonyTime[time_iters][(newx,newy)] = 1\n",
    "                            LOC.append(newcell.location)\n",
    "\n",
    "                \n",
    "    POPU_TOTAL=POPU_TOTAL+nextgen #update population by adding new generation\n",
    "    POPU_NUM.append(len(POPU_TOTAL))\n",
    "    GLUCON_FRAC.append(float(GLUCON_COUNTER)/len(POPU_TOTAL))\n",
    "    Switching.append(float(SwitchCount)/float(POPU_NUM[-1]))\n",
    "\n",
    "np.save('Colony_default',ColonyTime)\n",
    "np.save('ResourceGrid',ResourceTime)\n",
    "\n",
    "FINAL_GLUCON_CELLS=0\n",
    "FINAL_LIVE_CELLS=0\n",
    "for a_cell in POPU_TOTAL:\n",
    "    if a_cell.gluconD==1:\n",
    "        FINAL_GLUCON_CELLS+=1\n",
    "        FINAL_LIVE_CELLS+=1\n",
    "    elif a_cell.gluconD==0:\n",
    "        FINAL_LIVE_CELLS+=1\n",
    "\n",
    "print (GLUCON_COUNTER)\n",
    "print (len(LOC_STATE.keys()) - len(POPU_TOTAL))\n",
    "print (\"Population: \" + str(len(POPU_TOTAL)))"
   ]
  },
  {
   "cell_type": "code",
   "execution_count": null,
   "metadata": {
    "scrolled": false
   },
   "outputs": [],
   "source": [
    "plt.figure()\n",
    "plt.hist(ActualSecreted,bins=50)\n",
    "plt.grid(True)\n",
    "plt.xlabel('Actual secreted amount')\n",
    "figname=\"Secreted_trehalose_histogram\"\n",
    "plt.savefig(figname+'.svg',ext='svg',DPI=600)\n",
    "plt.savefig(figname+'.png',ext='png',DPI=600)\n",
    "plt.show()\n",
    "print (np.mean(ActualSecreted))\n"
   ]
  },
  {
   "cell_type": "code",
   "execution_count": null,
   "metadata": {
    "scrolled": false
   },
   "outputs": [],
   "source": [
    "plt.figure()\n",
    "plt.hist(GlyDivTime,normed=True,alpha=0.75,label='Light Cell Division time')\n",
    "plt.hist(GluDivTime,normed=True,alpha=0.75,label='Dark Cell Division time')\n",
    "plt.grid(True)\n",
    "plt.legend(loc=0)\n",
    "plt.xlabel('Division clock time')\n",
    "plt.ylabel('Normalised division time frequency')\n",
    "plt.title(\"Mean Division time ratio:\"+str(np.mean(GluDivTime)/np.mean(GlyDivTime))[0:4])\n",
    "\n",
    "ax = plt.gca()\n",
    "ax.set_facecolor('#d3d3d3')\n",
    "figname=\"Division_times\"\n",
    "plt.savefig(figname+'.svg',ext='svg',DPI=600)\n",
    "# plt.savefig(figname+'.png',ext='png',DPI=600)"
   ]
  }
 ],
 "metadata": {
  "kernelspec": {
   "display_name": "Python 3",
   "language": "python",
   "name": "python3"
  },
  "language_info": {
   "codemirror_mode": {
    "name": "ipython",
    "version": 3
   },
   "file_extension": ".py",
   "mimetype": "text/x-python",
   "name": "python",
   "nbconvert_exporter": "python",
   "pygments_lexer": "ipython3",
   "version": "3.6.3"
  }
 },
 "nbformat": 4,
 "nbformat_minor": 2
}
